{
 "cells": [
  {
   "cell_type": "code",
   "execution_count": null,
   "metadata": {},
   "outputs": [],
   "source": [
    "#Import libraries and packages for the project\n",
    "\n",
    "from selenium import webdriver\n",
    "from selenium.webdriver.common.keys import Keys\n",
    "from bs4 import BeautifulSoup\n",
    "from time import sleep\n",
    "import csv\n",
    "\n",
    "print('- Finish importing package')"
   ]
  },
  {
   "cell_type": "code",
   "execution_count": null,
   "metadata": {},
   "outputs": [],
   "source": [
    "# Step 1: Login to Linkedin\n",
    "\n",
    "# Open Chrome and login Linkedin site\n",
    "driver = webdriver.Chrome()\n",
    "url = 'https://www.linkedin.com/login'\n",
    "driver.get(url)\n",
    "\n",
    "# Assignment username, password\n",
    "credential = open('login_credential.txt')\n",
    "line = credential.readlines()\n",
    "username = line[0].rstrip()\n",
    "password = line[1].rstrip()\n",
    "\n",
    "# Find email field and input email\n",
    "email_field = driver.find_element_by_id('username')\n",
    "email_field.send_keys(username)\n",
    "sleep(4)\n",
    "\n",
    "# Find password field and input password\n",
    "password_field = driver.find_element_by_name('session_password')\n",
    "password_field.send_keys(password)\n",
    "sleep(4)\n",
    "\n",
    "# Find button login and click login\n",
    "login_field = driver.find_element_by_xpath('//*[@id=\"organic-div\"]/form/div[3]/button')\n",
    "login_field.click()\n",
    "sleep(3)"
   ]
  },
  {
   "cell_type": "code",
   "execution_count": null,
   "metadata": {},
   "outputs": [],
   "source": [
    "# Step 2: Search for the profile we want to crawl\n",
    "\n",
    "# Locate the search bar element\n",
    "search_field = driver.find_element_by_xpath('//*[@id=\"global-nav-typeahead\"]/input')\n",
    "\n",
    "# Input search query to the search bar element\n",
    "search_query = input('What profiled do you want to crawl?:')\n",
    "search_field.send_keys(search_query)\n",
    "\n",
    "#Search\n",
    "search_field.send_keys(Keys.RETURN)\n",
    "print('- Finish searching...')"
   ]
  },
  {
   "cell_type": "code",
   "execution_count": null,
   "metadata": {},
   "outputs": [],
   "source": [
    "# Step 3: Crawl the URLs of the profiles\n",
    "def GetURL():\n",
    "    page_source = BeautifulSoup(driver.page_source)\n",
    "    profiles = page_source.find_all('a', class_='app-aware-link', attrs={'aria-hidden':'false'})\n",
    "\n",
    "    all_profile_URL = []\n",
    "    for profile in profiles:\n",
    "        profile_URL = profile.get('href')\n",
    "        if profile_URL not in all_profile_URL:\n",
    "            all_profile_URL.append(profile_URL)\n",
    "    return all_profile_URL\n",
    "\n",
    "print(GetURL())\n"
   ]
  },
  {
   "cell_type": "code",
   "execution_count": null,
   "metadata": {},
   "outputs": [],
   "source": [
    "def GetURLsOnPages():\n",
    "    input_page = int(input('How many pages you want crawl?:'))\n",
    "    URLs_all_page = []\n",
    "    for page in range(input_page):\n",
    "        URLs_one_page = GetURL()\n",
    "        sleep(4)\n",
    "        height = int(driver.execute_script('return document.body.scrollHeight')-1000)\n",
    "        driver.execute_script('window.scrollTo(0, %s);' % height)\n",
    "        sleep(4)\n",
    "        #driver.execute_script('window.scrollTo(0, document.body.scrollHeight);')\n",
    "        next_button = driver.find_element_by_class_name('artdeco-pagination__button--next')\n",
    "        next_button.click()\n",
    "        URLs_all_page = URLs_all_page + URLs_one_page\n",
    "        sleep(4)\n",
    "    return URLs_all_page\n",
    "\n",
    "print(GetURLsOnPages())\n"
   ]
  },
  {
   "cell_type": "code",
   "execution_count": 174,
   "metadata": {},
   "outputs": [],
   "source": [
    "sample_all_page =['https://www.linkedin.com/in/sorrowth', 'https://www.linkedin.com/in/minh-nguyen-b49a40105', 'https://www.linkedin.com/in/duc4nh', 'https://www.linkedin.com/in/ACoAAAQfkrMBKTb0L4Gru43VC5uUJJGn11QpEw0', 'https://www.linkedin.com/in/ACoAAABs4tkBeuzcoiCk_YBF3dkVS-e6RY9mYEk', 'https://www.linkedin.com/in/hungpv99', 'https://www.linkedin.com/in/van-hung-nguyen', 'https://www.linkedin.com/in/lamson01', 'https://www.linkedin.com/in/nghia-nguyen-trong-397307201', 'https://www.linkedin.com/in/trananhduc1004', 'https://www.linkedin.com/in/hieuhani', 'https://www.linkedin.com/in/nhat-luong-6655841a2', 'https://www.linkedin.com/in/daotuanviet', 'https://www.linkedin.com/in/congthang', 'https://www.linkedin.com/in/meoscoder', 'https://www.linkedin.com/in/hellovietduc', 'https://www.linkedin.com/in/nducnhan', 'https://www.linkedin.com/in/chanh-le-232246a4', 'https://www.linkedin.com/in/quoc99', 'https://www.linkedin.com/in/son-phan-a079b278', 'https://www.linkedin.com/in/tr%E1%BA%A7n-khoa-331779b5', 'https://www.linkedin.com/in/nam-van-dang-074729138', 'https://www.linkedin.com/in/nguyenthinguyet1711', 'https://www.linkedin.com/in/nhan-phan-1024', 'https://www.linkedin.com/in/nguyencaokyvn', 'https://www.linkedin.com/in/quynh-nguyen-80992790', 'https://www.linkedin.com/in/tuan-hoang-7622b366', 'https://www.linkedin.com/in/nam-hoang-25a30612a', 'https://www.linkedin.com/in/levogiakhang', 'https://www.linkedin.com/in/dthongvl', 'https://www.linkedin.com/in/phong-cao-a44200135', 'https://www.linkedin.com/in/van-manh-24109616a', 'https://www.linkedin.com/in/vuongnv', 'https://www.linkedin.com/in/letrungtrung', 'https://www.linkedin.com/in/nghiptapcs', 'https://www.linkedin.com/in/tbm98', 'https://www.linkedin.com/in/imvutoan', 'https://www.linkedin.com/in/levantai', 'https://www.linkedin.com/in/truong-nguyen-33903883', 'https://www.linkedin.com/in/vo-dinh-hung-1329a4160', 'https://www.linkedin.com/in/nico-schelfhout-101436189', 'https://www.linkedin.com/in/hieumd', 'https://www.linkedin.com/in/h%C3%A0-lam-25a684b0', 'https://www.linkedin.com/in/dai-nguyen-3b81ab181', 'https://www.linkedin.com/in/vi%E1%BB%87t-ph%C3%BA-ng%C3%B4-423188132', 'https://www.linkedin.com/in/truc-duong-thanh-02392730', 'https://www.linkedin.com/in/nhutdm', 'https://www.linkedin.com/in/toan-nguyen-83295527', 'https://www.linkedin.com/in/thanh-nguyen-787a941aa', 'https://www.linkedin.com/in/tran-van-tuu-072738147', 'https://www.linkedin.com/in/quan1', 'https://www.linkedin.com/in/toan-truong-262a3a12a']"
   ]
  },
  {
   "cell_type": "code",
   "execution_count": null,
   "metadata": {},
   "outputs": [],
   "source": [
    "# Task 4: Crawl the data of 1 Linkedin profile, and write the data to .CSV file,\n",
    "\n",
    "with open('output.csv', 'w', newline = '', encoding=\"utf-8\") as file_output:\n",
    "    headers = ['Name', 'Location', 'Job Title', 'URL']\n",
    "    writer = csv.DictWriter(file_output, delimiter=',', lineterminator='\\n',fieldnames=headers)\n",
    "    writer.writeheader()\n",
    "    for linkedin_URL in sample_all_page:\n",
    "        driver.get(linkedin_URL)\n",
    "        sleep(3)\n",
    "        page_source = BeautifulSoup(driver.page_source, 'html.parser')\n",
    "        # print(page_source)\n",
    "        info_div = page_source.find('div', class_='mt2 relative')\n",
    "        # print(info_div)\n",
    "        info_name = info_div.find('h1', class_='v-align-middle').get_text().strip()\n",
    "        print(' - Profile name is:', info_name)\n",
    "        info_loc = info_div.find('div', class_='pb2 pv-text-details__left-panel').find('span', class_='text-body-small inline t-black--light break-words').get_text().strip()\n",
    "        print(' - Profile location is:', info_loc)\n",
    "        info_title = info_div.find('div', class_='text-body-medium').get_text().strip()\n",
    "        print(' - Profile title is:', info_title)\n",
    "        writer.writerow({headers[0]:info_name, headers[1]:info_loc, headers[2]:info_title, headers[3]:linkedin_URL})\n",
    "        print('\\n')\n",
    "        \n",
    "print('Mission Completed!')"
   ]
  }
 ],
 "metadata": {
  "interpreter": {
   "hash": "aee8b7b246df8f9039afb4144a1f6fd8d2ca17a180786b69acc140d282b71a49"
  },
  "kernelspec": {
   "display_name": "Python 3.9.1 64-bit",
   "name": "python3"
  },
  "language_info": {
   "codemirror_mode": {
    "name": "ipython",
    "version": 3
   },
   "file_extension": ".py",
   "mimetype": "text/x-python",
   "name": "python",
   "nbconvert_exporter": "python",
   "pygments_lexer": "ipython3",
   "version": "3.9.1"
  },
  "orig_nbformat": 4
 },
 "nbformat": 4,
 "nbformat_minor": 2
}
